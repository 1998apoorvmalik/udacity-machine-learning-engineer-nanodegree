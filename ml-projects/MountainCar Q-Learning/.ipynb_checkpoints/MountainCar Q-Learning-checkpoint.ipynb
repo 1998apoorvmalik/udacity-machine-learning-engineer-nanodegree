{
 "cells": [
  {
   "cell_type": "code",
   "execution_count": 1,
   "metadata": {},
   "outputs": [],
   "source": [
    "import gym \n",
    "import numpy as np\n",
    "import pandas as pd\n",
    "\n",
    "env = gym.make(\"MountainCar-v0\")"
   ]
  },
  {
   "cell_type": "code",
   "execution_count": 2,
   "metadata": {},
   "outputs": [
    {
     "name": "stdout",
     "output_type": "stream",
     "text": [
      "States: Box([-1.2  -0.07], [0.6  0.07], (2,), float32)\n",
      "Actions:  Discrete(3)\n",
      "\n",
      "State Low:  [-1.2  -0.07]\n",
      "state High:  [0.6  0.07]\n",
      "\n",
      "Action space samples:  [1, 2, 0, 2, 0]\n",
      "State space samples:  [[0.015224262, 0.019219099], [0.5720324, -0.054928284], [-0.47429138, -0.010854964]]\n"
     ]
    }
   ],
   "source": [
    "# Print out state space type.\n",
    "print(\"States:\", env.observation_space)\n",
    "# Print out action space type.\n",
    "print(\"Actions: \", env.action_space, end=\"\\n\\n\")\n",
    "\n",
    "# Print out the observation space boundaries.\n",
    "print(\"State Low: \", env.observation_space.low)\n",
    "print(\"state High: \", env.observation_space.high, end=\"\\n\\n\")\n",
    "\n",
    "# Generate some action samples:\n",
    "print(\"Action space samples: \", [env.action_space.sample() for _ in range(5)])\n",
    "# Generate some state samples:\n",
    "print(\"State space samples: \", [list(env.observation_space.sample()) for _ in range(3)])"
   ]
  },
  {
   "cell_type": "code",
   "execution_count": 3,
   "metadata": {},
   "outputs": [
    {
     "name": "stdout",
     "output_type": "stream",
     "text": [
      "Score =  -200.0\n"
     ]
    }
   ],
   "source": [
    "# Random agent interacting with the environment.\n",
    "env.reset()\n",
    "score = 0\n",
    "while True:\n",
    "    action = env.action_space.sample()\n",
    "    next_state, reward, done, info = env.step(action)\n",
    "    score += reward\n",
    "    if done:\n",
    "        break\n",
    "env.close()\n",
    "print(\"Score = \", score)"
   ]
  },
  {
   "cell_type": "code",
   "execution_count": 4,
   "metadata": {},
   "outputs": [],
   "source": [
    "import matplotlib.collections as mc\n",
    "import matplotlib.pyplot as plt\n",
    "class Preprocess:\n",
    "    def __init__(self, low=[-1.0, -5.0], high=[1.0, 5.0], bins=(10, 10)):\n",
    "        self.low = low\n",
    "        self.high = high\n",
    "        self.bins = bins\n",
    "        self.grid = self.create_uniform_grid()\n",
    "        self.samples_stored = False\n",
    "        \n",
    "    def create_uniform_grid(self):\n",
    "        grid = []\n",
    "        for i, b in enumerate(self.bins):\n",
    "            grid.append(np.linspace(start=self.low[i], stop=self.high[i], num=b, endpoint=False)[1:])\n",
    "        return grid\n",
    "    \n",
    "    def discretize(self, state):\n",
    "        return list(np.digitize(sample, grid) for sample, grid in zip(state, self.grid))\n",
    "    \n",
    "    def store_samples(self, samples, info=False):\n",
    "        self.samples_stored = True\n",
    "        self.samples = samples\n",
    "        self.discretized_samples = np.array([temp.discretize(sample) for sample in samples])\n",
    "        if info:\n",
    "            print(\"\\nSamples:\", repr(self.samples), sep=\"\\n\")\n",
    "            print(\"\\nDiscretized samples:\", repr(self.discretized_samples), sep=\"\\n\")\n",
    "            \n",
    "    def visualize_samples(self):\n",
    "        if self.samples_stored == False:\n",
    "            print(\"Error: Store some samples first\")\n",
    "            return\n",
    "        \n",
    "        low = self.low\n",
    "        high = self.high\n",
    "        grid = self.grid\n",
    "        samples = self.samples\n",
    "        discretized_samples = self.discretized_samples\n",
    "        fig, ax = plt.subplots(figsize=(10, 10))\n",
    "        ax.xaxis.set_major_locator(plt.FixedLocator(grid[0]))\n",
    "        ax.yaxis.set_major_locator(plt.FixedLocator(grid[1]))\n",
    "        ax.grid(True)\n",
    "        if low is not None and high is not None:\n",
    "            ax.set_xlim(low[0], high[0])\n",
    "            ax.set_ylim(low[1], high[1])\n",
    "        else:\n",
    "            low = [splits[0] for splits in grid]\n",
    "            high = [splits[-1] for splits in grid]\n",
    "        grid_extended = np.hstack((np.array([low]).T, grid, np.array([high]).T))  # add low and high ends\n",
    "        grid_centers = (grid_extended[:, 1:] + grid_extended[:, :-1]) / 2  # compute center of each grid cell\n",
    "        locs = np.stack(grid_centers[i, discretized_samples[:, i]] for i in range(len(grid))).T  # map discretized samples\n",
    "        ax.plot(samples[:, 0], samples[:, 1], 'o')  # plot original samples\n",
    "        ax.plot(locs[:, 0], locs[:, 1], 's')  # plot discretized samples in mapped locations\n",
    "        ax.add_collection(mc.LineCollection(list(zip(samples, locs)), colors='orange'))  # add a line connecting each original-discretized sample\n",
    "        ax.legend(['original', 'discretized'])"
   ]
  },
  {
   "cell_type": "code",
   "execution_count": 5,
   "metadata": {},
   "outputs": [
    {
     "name": "stdout",
     "output_type": "stream",
     "text": [
      "\n",
      "Samples:\n",
      "array([[-1.  , -5.  ],\n",
      "       [-0.81, -4.1 ],\n",
      "       [-0.8 , -4.  ],\n",
      "       [-0.5 ,  0.  ],\n",
      "       [ 0.2 , -1.9 ],\n",
      "       [ 0.8 ,  4.  ],\n",
      "       [ 0.81,  4.1 ],\n",
      "       [ 1.  ,  5.  ]])\n",
      "\n",
      "Discretized samples:\n",
      "array([[0, 0],\n",
      "       [0, 0],\n",
      "       [1, 1],\n",
      "       [2, 5],\n",
      "       [5, 3],\n",
      "       [9, 9],\n",
      "       [9, 9],\n",
      "       [9, 9]])\n"
     ]
    },
    {
     "name": "stderr",
     "output_type": "stream",
     "text": [
      "/opt/homebrew/Caskroom/miniforge/base/envs/py39-tf-m1/lib/python3.9/site-packages/IPython/core/interactiveshell.py:3444: FutureWarning: arrays to stack must be passed as a \"sequence\" type such as list or tuple. Support for non-sequence iterables such as generators is deprecated as of NumPy 1.16 and will raise an error in the future.\n",
      "  exec(code_obj, self.user_global_ns, self.user_ns)\n"
     ]
    },
    {
     "data": {
      "image/png": "[encoded data removed]",
      "text/plain": [
       "<Figure size 720x720 with 1 Axes>"
      ]
     },
     "metadata": {
      "needs_background": "light"
     },
     "output_type": "display_data"
    }
   ],
   "source": [
    "# Testing the preprocess class.\n",
    "temp = Preprocess()\n",
    "samples = np.array(\n",
    "    [[-1.0 , -5.0],\n",
    "     [-0.81, -4.1],\n",
    "     [-0.8 , -4.0],\n",
    "     [-0.5 ,  0.0],\n",
    "     [ 0.2 , -1.9],\n",
    "     [ 0.8 ,  4.0],\n",
    "     [ 0.81,  4.1],\n",
    "     [ 1.0 ,  5.0]])\n",
    "temp.store_samples(samples, True)\n",
    "temp.visualize_samples()"
   ]
  },
  {
   "cell_type": "code",
   "execution_count": 6,
   "metadata": {},
   "outputs": [],
   "source": [
    "import sys\n",
    "import time\n",
    "\n",
    "class QLearningAgent:\n",
    "    \"\"\"Q-Learning agent that can act on a continuous state space by discretizing it.\"\"\"\n",
    "\n",
    "    def __init__(self, env, bins=(50, 50), alpha=0.02, gamma=0.99,\n",
    "                 epsilon=1.0, epsilon_decay_rate=0.9995, min_epsilon=.01, seed=505):\n",
    "        \"\"\"Initialize variables, create grid for discretization.\"\"\"\n",
    "        \n",
    "        # Environment info\n",
    "        self.bins = bins\n",
    "        self.env = env\n",
    "        self.state_grid = self.create_uniform_grid()\n",
    "        self.state_size = tuple(len(splits) + 1 for splits in self.state_grid)  # n-dimensional state space\n",
    "        self.action_size = self.env.action_space.n  # 1-dimensional discrete action space\n",
    "        self.seed = np.random.seed(seed)\n",
    "        self.samples_stored = False\n",
    "        self.training_done = False\n",
    "        print(\"Environment:\", self.env)\n",
    "        print(\"State space size:\", self.state_size)\n",
    "        print(\"Action space size:\", self.action_size)\n",
    "        \n",
    "        # Learning parameters\n",
    "        self.alpha = alpha  # learning rate\n",
    "        self.gamma = gamma  # discount factor\n",
    "        self.epsilon = self.initial_epsilon = epsilon  # initial exploration rate\n",
    "        self.epsilon_decay_rate = epsilon_decay_rate # how quickly should we decrease epsilon\n",
    "        self.min_epsilon = min_epsilon\n",
    "        \n",
    "        # Create Q-table\n",
    "        self.q_table = np.zeros(shape=(self.state_size + (self.action_size,)))\n",
    "        print(\"Q table size:\", self.q_table.shape)\n",
    "    \n",
    "    def create_uniform_grid(self):\n",
    "        grid = []\n",
    "        for i, b in enumerate(self.bins):\n",
    "            grid.append(np.linspace(start=self.env.observation_space.low[i], \n",
    "                                    stop=self.env.observation_space.high[i], num=b, endpoint=False)[1:])\n",
    "        return grid\n",
    "    \n",
    "    def discretize(self, state):\n",
    "        return list(np.digitize(sample, grid) for sample, grid in zip(state, self.state_grid))\n",
    "    \n",
    "    def store_samples(self, samples, info=False):\n",
    "        self.samples_stored = True\n",
    "        self.samples = samples\n",
    "        self.discretized_samples = np.array([temp.discretize(sample) for sample in samples])\n",
    "        if info:\n",
    "            print(\"\\nSamples:\", repr(self.samples), sep=\"\\n\")\n",
    "            print(\"\\nDiscretized samples:\", repr(self.discretized_samples), sep=\"\\n\")\n",
    "            \n",
    "    def visualize_samples(self):\n",
    "        if self.samples_stored == False:\n",
    "            print(\"Error: Store some samples first\")\n",
    "            return\n",
    "        \n",
    "        low = self.low\n",
    "        high = self.high\n",
    "        grid = self.grid\n",
    "        samples = self.samples\n",
    "        discretized_samples = self.discretized_samples\n",
    "        fig, ax = plt.subplots(figsize=(10, 10))\n",
    "        ax.xaxis.set_major_locator(plt.FixedLocator(grid[0]))\n",
    "        ax.yaxis.set_major_locator(plt.FixedLocator(grid[1]))\n",
    "        ax.grid(True)\n",
    "        if low is not None and high is not None:\n",
    "            ax.set_xlim(low[0], high[0])\n",
    "            ax.set_ylim(low[1], high[1])\n",
    "        else:\n",
    "            low = [splits[0] for splits in grid]\n",
    "            high = [splits[-1] for splits in grid]\n",
    "        grid_extended = np.hstack((np.array([low]).T, grid, np.array([high]).T))  # add low and high ends\n",
    "        grid_centers = (grid_extended[:, 1:] + grid_extended[:, :-1]) / 2  # compute center of each grid cell\n",
    "        locs = np.stack(grid_centers[i, discretized_samples[:, i]] for i in range(len(grid))).T  # map discretized samples\n",
    "        ax.plot(samples[:, 0], samples[:, 1], 'o')  # plot original samples\n",
    "        ax.plot(locs[:, 0], locs[:, 1], 's')  # plot discretized samples in mapped locations\n",
    "        ax.add_collection(mc.LineCollection(list(zip(samples, locs)), colors='orange'))  # add a line connecting each original-discretized sample\n",
    "        ax.legend(['original', 'discretized'])\n",
    "\n",
    "    def preprocess_state(self, state):\n",
    "        \"\"\"Map a continuous state to its discretized representation.\"\"\"\n",
    "        # TODO: Implement this\n",
    "        return tuple(self.discretize(state))\n",
    "\n",
    "    def reset_episode(self, state):\n",
    "        \"\"\"Reset variables for a new episode.\"\"\"\n",
    "        # Gradually decrease exploration rate\n",
    "        self.epsilon *= self.epsilon_decay_rate\n",
    "        self.epsilon = max(self.epsilon, self.min_epsilon)\n",
    "\n",
    "        # Decide initial action\n",
    "        self.last_state = self.preprocess_state(state)\n",
    "        self.last_action = np.argmax(self.q_table[self.last_state])\n",
    "        return self.last_action\n",
    "    \n",
    "    def reset_exploration(self, epsilon=None):\n",
    "        \"\"\"Reset exploration rate used when training.\"\"\"\n",
    "        self.epsilon = epsilon if epsilon is not None else self.initial_epsilon\n",
    "        \n",
    "    def plot_scores(self, rolling_window=100):\n",
    "        \"\"\"Plot scores and optional rolling mean using specified window.\"\"\"\n",
    "        if self.training_done == False:\n",
    "            print(\"Error: Training not done\")\n",
    "        scores = self.scores\n",
    "        plt.plot(scores); plt.title(\"Scores\");\n",
    "        rolling_mean = pd.Series(scores).rolling(rolling_window).mean()\n",
    "        plt.plot(rolling_mean);\n",
    "    \n",
    "    def plot_q_table(self):\n",
    "        \"\"\"Visualize max Q-value for each state and corresponding action.\"\"\"\n",
    "        q_table = self.q_table\n",
    "        q_image = np.max(q_table, axis=2)       # max Q-value for each state\n",
    "        q_actions = np.argmax(q_table, axis=2)  # best action for each state\n",
    "\n",
    "        fig, ax = plt.subplots(figsize=(10, 10))\n",
    "        cax = ax.imshow(q_image, cmap='jet');\n",
    "        cbar = fig.colorbar(cax)\n",
    "        for x in range(q_image.shape[0]):\n",
    "            for y in range(q_image.shape[1]):\n",
    "                ax.text(x, y, q_actions[x, y], color='white',\n",
    "                        horizontalalignment='center', verticalalignment='center')\n",
    "        ax.grid(False)\n",
    "        ax.set_title(\"Q-table, size: {}\".format(q_table.shape))\n",
    "        ax.set_xlabel('position')\n",
    "        ax.set_ylabel('velocity')\n",
    "\n",
    "    def act(self, state, reward=None, done=None, mode='train', time_delay=0.01):\n",
    "        \"\"\"Pick next action and update internal Q table (when mode != 'test').\"\"\"\n",
    "        state = self.preprocess_state(state)\n",
    "        if mode == 'test':\n",
    "            # Test mode: Simply produce an action\n",
    "            action = np.argmax(self.q_table[state])\n",
    "            time.sleep(time_delay)\n",
    "        else:\n",
    "            # Train mode (default): Update Q table, pick next action\n",
    "            # Note: We update the Q table entry for the *last* (state, action) pair with current state, reward\n",
    "            self.q_table[self.last_state + (self.last_action,)] += self.alpha * \\\n",
    "                (reward + self.gamma * max(self.q_table[state]) - self.q_table[self.last_state + (self.last_action,)])\n",
    "\n",
    "            # Exploration vs. exploitation\n",
    "            do_exploration = np.random.uniform(0, 1) < self.epsilon\n",
    "            if do_exploration:\n",
    "                # Pick a random action\n",
    "                action = np.random.randint(0, self.action_size)\n",
    "            else:\n",
    "                # Pick the best action from Q table\n",
    "                action = np.argmax(self.q_table[state])\n",
    "\n",
    "        # Roll over current state, action for next step\n",
    "        self.last_state = state\n",
    "        self.last_action = action\n",
    "        return action\n",
    "    \n",
    "    def run(self, num_episodes=20000, mode=\"train\", time_delay=0.01):\n",
    "        \"\"\"Run agent in given reinforcement learning environment and return scores.\"\"\"\n",
    "        scores = []\n",
    "        max_avg_score = -np.inf\n",
    "        for i_episode in range(1, num_episodes+1):\n",
    "            # Initialize episode\n",
    "            state = self.env.reset()\n",
    "            action = self.reset_episode(state)\n",
    "            total_reward = 0\n",
    "            done = False\n",
    "\n",
    "            # Roll out steps until done\n",
    "            while not done:\n",
    "                if mode=='test':\n",
    "                    env.render()\n",
    "                state, reward, done, info = self.env.step(action)\n",
    "                total_reward += reward\n",
    "                action = self.act(state, reward, done, mode, time_delay)\n",
    "            \n",
    "            # Save final score\n",
    "            scores.append(total_reward)\n",
    "\n",
    "            # Print episode stats\n",
    "            if mode == 'train':\n",
    "                self.training_done = True\n",
    "                if len(scores) > 100:\n",
    "                    avg_score = np.mean(scores[-100:])\n",
    "                    if avg_score > max_avg_score:\n",
    "                        max_avg_score = avg_score\n",
    "                if i_episode % 100 == 0:\n",
    "                    print(\"\\rEpisode {}/{} | Max Average Score: {}\".format(i_episode, num_episodes, max_avg_score), end=\"\")\n",
    "                    sys.stdout.flush()\n",
    "        \n",
    "        # Close rendering\n",
    "        env.close()\n",
    "        if mode == \"test\":\n",
    "            print(\"Score: \", np.mean(scores))\n",
    "        else:\n",
    "            self.scores = scores"
   ]
  },
  {
   "cell_type": "code",
   "execution_count": 7,
   "metadata": {},
   "outputs": [
    {
     "name": "stdout",
     "output_type": "stream",
     "text": [
      "Environment: <TimeLimit<MountainCarEnv<MountainCar-v0>>>\n",
      "State space size: (20, 20)\n",
      "Action space size: 3\n",
      "Q table size: (20, 20, 3)\n"
     ]
    }
   ],
   "source": [
    "# Creating the agent\n",
    "agent = QLearningAgent(env, bins = (20, 20))"
   ]
  },
  {
   "cell_type": "code",
   "execution_count": null,
   "metadata": {},
   "outputs": [
    {
     "name": "stdout",
     "output_type": "stream",
     "text": [
      "Episode 1800/100000 | Max Average Score: -200.0"
     ]
    }
   ],
   "source": [
    "# Training the agent\n",
    "agent.run(num_episodes = 100000, mode=\"train\")"
   ]
  },
  {
   "cell_type": "code",
   "execution_count": null,
   "metadata": {},
   "outputs": [],
   "source": [
    "# Visualize the scores\n",
    "agent.plot_scores()"
   ]
  },
  {
   "cell_type": "code",
   "execution_count": null,
   "metadata": {},
   "outputs": [],
   "source": [
    "# Visualize the Q-Table\n",
    "agent.plot_q_table()"
   ]
  },
  {
   "cell_type": "code",
   "execution_count": null,
   "metadata": {},
   "outputs": [],
   "source": [
    "# Testing the agent\n",
    "agent.run(num_episodes=1, mode=\"test\", time_delay = 0.01)"
   ]
  },
  {
   "cell_type": "code",
   "execution_count": null,
   "metadata": {},
   "outputs": [],
   "source": []
  }
 ],
 "metadata": {
  "kernelspec": {
   "display_name": "Python 3.9.7 64-bit ('py39-tf-m1': conda)",
   "language": "python",
   "name": "python397jvsc74a57bd0dde3562a707dd5c908cff731c5d458cabc735e0a8d718c859c4a294627fec5bb"
  },
  "language_info": {
   "codemirror_mode": {
    "name": "ipython",
    "version": 3
   },
   "file_extension": ".py",
   "mimetype": "text/x-python",
   "name": "python",
   "nbconvert_exporter": "python",
   "pygments_lexer": "ipython3",
   "version": "3.9.7"
  }
 },
 "nbformat": 4,
 "nbformat_minor": 2
}
